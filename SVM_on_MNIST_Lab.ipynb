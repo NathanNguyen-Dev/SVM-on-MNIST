{
  "nbformat": 4,
  "nbformat_minor": 0,
  "metadata": {
    "colab": {
      "name": "SVM_on_MNIST_Lab.ipynb",
      "provenance": [],
      "collapsed_sections": []
    },
    "kernelspec": {
      "display_name": "Python 3",
      "language": "python",
      "name": "python3"
    },
    "language_info": {
      "codemirror_mode": {
        "name": "ipython",
        "version": 3
      },
      "file_extension": ".py",
      "mimetype": "text/x-python",
      "name": "python",
      "nbconvert_exporter": "python",
      "pygments_lexer": "ipython3",
      "version": "3.7.4"
    }
  },
  "cells": [
    {
      "cell_type": "markdown",
      "metadata": {
        "id": "Ps5x-gYUCf9_"
      },
      "source": [
        "# Handwritten Digits Classification"
      ]
    },
    {
      "cell_type": "markdown",
      "metadata": {
        "id": "0glR10XBCxNy"
      },
      "source": [
        "## Overview\n",
        "\n",
        "The MNIST database (Modified National Institute of Standards and Technology database) is a large database of handwritten digits that is commonly used for training various image processing systems. MNIST is like the \"Hello World\" of machine learning with which you can try out a few machine learning algorithms.\n",
        "\n",
        "![](https://upload.wikimedia.org/wikipedia/commons/2/27/MnistExamples.png)\n",
        "\n",
        "Each image is 28 pixels in height and 28 pixels in width, for a total of 784 pixels in total. Each pixel has a single pixel-value associated with it, indicating the lightness or darkness of that pixel, with higher numbers meaning lighter. This pixel-value is an integer between 0 and 255, inclusive.\n",
        "\n",
        "Visually, if we omit the \"pixel\" prefix, the pixels make up the image like this:\n",
        "```\n",
        "000 001 002 003 ... 026 027\n",
        "028 029 030 031 ... 054 055\n",
        "056 057 058 059 ... 082 083\n",
        " |   |   |   |  ...  |   |\n",
        "728 729 730 731 ... 754 755\n",
        "756 757 758 759 ... 782 783 \n",
        "```"
      ]
    },
    {
      "cell_type": "markdown",
      "metadata": {
        "id": "-3hGXfqVDRna"
      },
      "source": [
        "## Get Data"
      ]
    },
    {
      "cell_type": "code",
      "metadata": {
        "id": "4IWx_-bBEYAT"
      },
      "source": [
        "import numpy as np\n",
        "import pandas as pd\n",
        "import seaborn as sns\n",
        "import matplotlib.pyplot as plt\n",
        "%matplotlib inline\n",
        "\n",
        "import warnings\n",
        "warnings.filterwarnings('ignore')\n",
        "\n",
        "sns.set_style(\"whitegrid\")"
      ],
      "execution_count": null,
      "outputs": []
    },
    {
      "cell_type": "code",
      "metadata": {
        "id": "BNhUbXb9CSbh",
        "colab": {
          "base_uri": "https://localhost:8080/"
        },
        "outputId": "33b4ec2f-a17b-4d6c-9520-f9971b5f1dec"
      },
      "source": [
        "from tensorflow.keras.datasets import mnist\n",
        "\n",
        "(X_train, y_train), (X_test, y_test) = mnist.load_data()\n",
        "\n",
        "print('Training data:', X_train.shape, y_train.shape) # training set\n",
        "print('Test data:', X_test.shape, y_test.shape) # validation set"
      ],
      "execution_count": null,
      "outputs": [
        {
          "output_type": "stream",
          "text": [
            "Downloading data from https://storage.googleapis.com/tensorflow/tf-keras-datasets/mnist.npz\n",
            "11493376/11490434 [==============================] - 0s 0us/step\n",
            "Training data: (60000, 28, 28) (60000,)\n",
            "Test data: (10000, 28, 28) (10000,)\n"
          ],
          "name": "stdout"
        }
      ]
    },
    {
      "cell_type": "markdown",
      "metadata": {
        "id": "VYTtM9VlGs31"
      },
      "source": [
        "## EDA"
      ]
    },
    {
      "cell_type": "code",
      "metadata": {
        "id": "xcZURSKuDcvm"
      },
      "source": [
        "def plot_images(images, labels):\n",
        "    '''Plot images with their labels. Ten each row'''\n",
        "    plt.figure(figsize=(20, 10))\n",
        "    columns = 10\n",
        "    for i, image in enumerate(images):\n",
        "        ax = plt.subplot(len(images) / columns + 1, columns, i + 1)\n",
        "        ax.set_title(f\"{labels[i]}\", fontsize=16)\n",
        "        plt.axis('off')\n",
        "        plt.subplots_adjust(bottom=0.1)\n",
        "        plt.imshow(image, cmap='gray')\n",
        "\n",
        "def get_samples(n_samples, X, y):\n",
        "    '''Get n_samples images randomly'''\n",
        "    samples = np.random.choice(np.arange(len(y)), n_samples, replace=False)\n",
        "    return X[samples], y[samples]\n",
        "\n",
        "def get_digit(digit, n_samples, X, y):\n",
        "    '''Get n_samples images of the class digit randomly'''\n",
        "    y_digit = y[y == digit]\n",
        "    samples = np.random.choice(np.arange(len(y_digit)), n_samples, replace=False)\n",
        "    return X[y == digit][samples], y_digit[samples]"
      ],
      "execution_count": null,
      "outputs": []
    },
    {
      "cell_type": "code",
      "metadata": {
        "colab": {
          "base_uri": "https://localhost:8080/"
        },
        "id": "TwwWk4FfmBwm",
        "outputId": "a88f9fb0-3738-4eed-a9ea-cd1ebd058738"
      },
      "source": [
        "images.shape"
      ],
      "execution_count": null,
      "outputs": [
        {
          "output_type": "execute_result",
          "data": {
            "text/plain": [
              "(30, 28, 28)"
            ]
          },
          "metadata": {
            "tags": []
          },
          "execution_count": 65
        }
      ]
    },
    {
      "cell_type": "code",
      "metadata": {
        "colab": {
          "base_uri": "https://localhost:8080/"
        },
        "id": "7suQqlS-mDkg",
        "outputId": "096dfbb6-ef0b-431a-e9c7-26bcfdcb86de"
      },
      "source": [
        "labels.shape"
      ],
      "execution_count": null,
      "outputs": [
        {
          "output_type": "execute_result",
          "data": {
            "text/plain": [
              "(30,)"
            ]
          },
          "metadata": {
            "tags": []
          },
          "execution_count": 66
        }
      ]
    },
    {
      "cell_type": "code",
      "metadata": {
        "id": "OpMe7EMCEF01",
        "colab": {
          "base_uri": "https://localhost:8080/",
          "height": 436
        },
        "outputId": "60958757-6ec6-4ae7-bba0-421b34cdb6fc"
      },
      "source": [
        "n_samples = 30\n",
        "# images, labels = get_samples(n_samples, X_train, y_train)\n",
        "images, labels = get_digit(6, n_samples, X_train, y_train)\n",
        "plot_images(images, labels)"
      ],
      "execution_count": null,
      "outputs": [
        {
          "output_type": "display_data",
          "data": {
            "image/png": "[encoded data removed]",
            "text/plain": [
              "<Figure size 1440x720 with 30 Axes>"
            ]
          },
          "metadata": {
            "tags": []
          }
        }
      ]
    },
    {
      "cell_type": "markdown",
      "metadata": {
        "id": "7Ld_PUJxrzN1"
      },
      "source": [
        "**Plot the barplot of number of images of each class (0 to 9)**"
      ]
    },
    {
      "cell_type": "code",
      "metadata": {
        "id": "xjVYEat8EJTd",
        "colab": {
          "base_uri": "https://localhost:8080/",
          "height": 282
        },
        "outputId": "3fbd7592-e171-4cb6-bfae-a633e7105746"
      },
      "source": [
        "\n",
        "sns.countplot(y_test)"
      ],
      "execution_count": null,
      "outputs": [
        {
          "output_type": "execute_result",
          "data": {
            "text/plain": [
              "<matplotlib.axes._subplots.AxesSubplot at 0x7f90da005c10>"
            ]
          },
          "metadata": {
            "tags": []
          },
          "execution_count": 6
        },
        {
          "output_type": "display_data",
          "data": {
            "image/png": "[encoded data removed]",
            "text/plain": [
              "<Figure size 432x288 with 1 Axes>"
            ]
          },
          "metadata": {
            "tags": []
          }
        }
      ]
    },
    {
      "cell_type": "markdown",
      "metadata": {
        "id": "XC2sFqfcJjQ1"
      },
      "source": [
        "## Transform data for training"
      ]
    },
    {
      "cell_type": "markdown",
      "metadata": {
        "id": "6W5AWXE2rzOj"
      },
      "source": [
        "**Get the first `n_samples` images randomly from training set and test set. Then reshape them into long vectors**"
      ]
    },
    {
      "cell_type": "code",
      "metadata": {
        "id": "XF1XGXrvJlri",
        "colab": {
          "base_uri": "https://localhost:8080/"
        },
        "outputId": "05dea426-4ef9-46c7-8551-5fe52642c130"
      },
      "source": [
        "n_samples = 2000\n",
        "n_test_samples = 400\n",
        "X_train_flat, y_train_flat = get_samples(n_samples, X_train, y_train)\n",
        "X_test_flat, y_test_flat = get_samples(n_test_samples, X_test, y_test)\n",
        "print(X_train_flat.shape,X_test_flat.shape)\n",
        "# Normalization\n",
        "X_train_flat = X_train_flat.reshape((n_samples, -1))/255\n",
        "X_test_flat = X_test_flat.reshape((n_test_samples, -1))/255"
      ],
      "execution_count": null,
      "outputs": [
        {
          "output_type": "stream",
          "text": [
            "(2000, 28, 28) (400, 28, 28)\n"
          ],
          "name": "stdout"
        }
      ]
    },
    {
      "cell_type": "code",
      "metadata": {
        "id": "66rNQGgnK1MX",
        "colab": {
          "base_uri": "https://localhost:8080/"
        },
        "outputId": "29bdb049-9a2a-4105-d83a-22bdd50a613e"
      },
      "source": [
        "print('Training data', X_train_flat.shape)\n",
        "print('Test data', X_test_flat.shape)"
      ],
      "execution_count": null,
      "outputs": [
        {
          "output_type": "stream",
          "text": [
            "Training data (2000, 784)\n",
            "Test data (400, 784)\n"
          ],
          "name": "stdout"
        }
      ]
    },
    {
      "cell_type": "code",
      "metadata": {
        "id": "59B4UG39o5N1",
        "colab": {
          "base_uri": "https://localhost:8080/"
        },
        "outputId": "0239326a-dd94-43b0-b98b-4d136002a74c"
      },
      "source": [
        "# Get all the data\n",
        "# Run it after you finish training with the 2000 samples\n",
        "# X_train_flat = X_train.reshape((-1, 784))\n",
        "# X_test_flat = X_test.reshape((-1, 784))\n",
        "# y_train_flat = y_train\n",
        "# y_test_flat = y_test\n",
        "\n",
        "# print('Training data', X_train_flat.shape)\n",
        "# print('Test data', X_test_flat.shape)\n",
        "# print('Training label', y_train_flat.shape)\n",
        "# print('Test label', y_test_flat.shape)"
      ],
      "execution_count": null,
      "outputs": [
        {
          "output_type": "stream",
          "text": [
            "Training data (60000, 784)\n",
            "Test data (10000, 784)\n",
            "Training label (60000,)\n",
            "Test label (10000,)\n"
          ],
          "name": "stdout"
        }
      ]
    },
    {
      "cell_type": "markdown",
      "metadata": {
        "id": "bmxGMEGGLaJI"
      },
      "source": [
        "## Train models"
      ]
    },
    {
      "cell_type": "code",
      "metadata": {
        "id": "4tJcSPEbLRsh"
      },
      "source": [
        "from sklearn.svm import SVC\n",
        "from sklearn.metrics import confusion_matrix, accuracy_score, classification_report\n",
        "from sklearn.model_selection import cross_val_score\n",
        "from sklearn.model_selection import GridSearchCV"
      ],
      "execution_count": null,
      "outputs": []
    },
    {
      "cell_type": "markdown",
      "metadata": {
        "id": "blM8JAmirzPb"
      },
      "source": [
        "**Train a SVM model**: Set up the training process and train with the small samples of data first before you take the full training dataset to train."
      ]
    },
    {
      "cell_type": "code",
      "metadata": {
        "id": "CIafedeOrzPe"
      },
      "source": [
        "\n",
        "clf = SVC()"
      ],
      "execution_count": null,
      "outputs": []
    },
    {
      "cell_type": "code",
      "metadata": {
        "id": "QQTsA_e6RDGP"
      },
      "source": [
        "param_grid = {'kernel':['linear', 'rbf'], 'C':np.logspace(-4,4,9)}"
      ],
      "execution_count": null,
      "outputs": []
    },
    {
      "cell_type": "markdown",
      "metadata": {
        "id": "C7EdM3ZY0gei"
      },
      "source": [
        "You can use GridSearch to find the best set of hyperparameters. Take a look at GridSearchCV from Sklearn here (look at the example at the end): https://scikit-learn.org/stable/modules/generated/sklearn.model_selection.GridSearchCV.html"
      ]
    },
    {
      "cell_type": "code",
      "metadata": {
        "id": "ENUgYnAIv7BA",
        "colab": {
          "base_uri": "https://localhost:8080/"
        },
        "outputId": "33ec3eca-8fbf-4a85-cb73-f6d0c833d511"
      },
      "source": [
        "\n",
        "\n",
        "gridsearch_models = GridSearchCV(clf, param_grid=param_grid,n_jobs=-1,verbose=True,cv = 5)\n",
        "\n",
        "gridsearch_models.fit(X_train_flat, y_train_flat)"
      ],
      "execution_count": null,
      "outputs": [
        {
          "output_type": "stream",
          "text": [
            "Fitting 5 folds for each of 18 candidates, totalling 90 fits\n"
          ],
          "name": "stdout"
        },
        {
          "output_type": "stream",
          "text": [
            "[Parallel(n_jobs=-1)]: Using backend LokyBackend with 2 concurrent workers.\n",
            "[Parallel(n_jobs=-1)]: Done  46 tasks      | elapsed:  1.8min\n",
            "[Parallel(n_jobs=-1)]: Done  90 out of  90 | elapsed:  2.6min finished\n"
          ],
          "name": "stderr"
        },
        {
          "output_type": "execute_result",
          "data": {
            "text/plain": [
              "GridSearchCV(cv=5, error_score=nan,\n",
              "             estimator=SVC(C=1.0, break_ties=False, cache_size=200,\n",
              "                           class_weight=None, coef0=0.0,\n",
              "                           decision_function_shape='ovr', degree=3,\n",
              "                           gamma='scale', kernel='rbf', max_iter=-1,\n",
              "                           probability=False, random_state=None, shrinking=True,\n",
              "                           tol=0.001, verbose=False),\n",
              "             iid='deprecated', n_jobs=-1,\n",
              "             param_grid={'C': array([1.e-04, 1.e-03, 1.e-02, 1.e-01, 1.e+00, 1.e+01, 1.e+02, 1.e+03,\n",
              "       1.e+04]),\n",
              "                         'kernel': ['linear', 'rbf']},\n",
              "             pre_dispatch='2*n_jobs', refit=True, return_train_score=False,\n",
              "             scoring=None, verbose=True)"
            ]
          },
          "metadata": {
            "tags": []
          },
          "execution_count": 76
        }
      ]
    },
    {
      "cell_type": "code",
      "metadata": {
        "id": "xakJOw-uxZZZ",
        "colab": {
          "base_uri": "https://localhost:8080/",
          "height": 1000
        },
        "outputId": "dbad2c55-c5a9-4c41-8f38-c7ab7d78d4ce"
      },
      "source": [
        "# print out the results\n",
        "pd.DataFrame(gridsearch_models.cv_results_)"
      ],
      "execution_count": null,
      "outputs": [
        {
          "output_type": "execute_result",
          "data": {
            "text/html": [
              "<div>\n",
              "<style scoped>\n",
              "    .dataframe tbody tr th:only-of-type {\n",
              "        vertical-align: middle;\n",
              "    }\n",
              "\n",
              "    .dataframe tbody tr th {\n",
              "        vertical-align: top;\n",
              "    }\n",
              "\n",
              "    .dataframe thead th {\n",
              "        text-align: right;\n",
              "    }\n",
              "</style>\n",
              "<table border=\"1\" class=\"dataframe\">\n",
              "  <thead>\n",
              "    <tr style=\"text-align: right;\">\n",
              "      <th></th>\n",
              "      <th>mean_fit_time</th>\n",
              "      <th>std_fit_time</th>\n",
              "      <th>mean_score_time</th>\n",
              "      <th>std_score_time</th>\n",
              "      <th>param_C</th>\n",
              "      <th>param_kernel</th>\n",
              "      <th>params</th>\n",
              "      <th>split0_test_score</th>\n",
              "      <th>split1_test_score</th>\n",
              "      <th>split2_test_score</th>\n",
              "      <th>split3_test_score</th>\n",
              "      <th>split4_test_score</th>\n",
              "      <th>mean_test_score</th>\n",
              "      <th>std_test_score</th>\n",
              "      <th>rank_test_score</th>\n",
              "    </tr>\n",
              "  </thead>\n",
              "  <tbody>\n",
              "    <tr>\n",
              "      <th>0</th>\n",
              "      <td>5.596449</td>\n",
              "      <td>0.017164</td>\n",
              "      <td>0.851748</td>\n",
              "      <td>0.025195</td>\n",
              "      <td>0.0001</td>\n",
              "      <td>linear</td>\n",
              "      <td>{'C': 0.0001, 'kernel': 'linear'}</td>\n",
              "      <td>0.1150</td>\n",
              "      <td>0.1150</td>\n",
              "      <td>0.1150</td>\n",
              "      <td>0.1150</td>\n",
              "      <td>0.1125</td>\n",
              "      <td>0.1145</td>\n",
              "      <td>0.001000</td>\n",
              "      <td>15</td>\n",
              "    </tr>\n",
              "    <tr>\n",
              "      <th>1</th>\n",
              "      <td>5.750710</td>\n",
              "      <td>0.022553</td>\n",
              "      <td>0.894809</td>\n",
              "      <td>0.019619</td>\n",
              "      <td>0.0001</td>\n",
              "      <td>rbf</td>\n",
              "      <td>{'C': 0.0001, 'kernel': 'rbf'}</td>\n",
              "      <td>0.1150</td>\n",
              "      <td>0.1150</td>\n",
              "      <td>0.1150</td>\n",
              "      <td>0.1150</td>\n",
              "      <td>0.1125</td>\n",
              "      <td>0.1145</td>\n",
              "      <td>0.001000</td>\n",
              "      <td>15</td>\n",
              "    </tr>\n",
              "    <tr>\n",
              "      <th>2</th>\n",
              "      <td>3.861721</td>\n",
              "      <td>0.041579</td>\n",
              "      <td>0.776085</td>\n",
              "      <td>0.013695</td>\n",
              "      <td>0.001</td>\n",
              "      <td>linear</td>\n",
              "      <td>{'C': 0.001, 'kernel': 'linear'}</td>\n",
              "      <td>0.8150</td>\n",
              "      <td>0.7800</td>\n",
              "      <td>0.8075</td>\n",
              "      <td>0.7950</td>\n",
              "      <td>0.7750</td>\n",
              "      <td>0.7945</td>\n",
              "      <td>0.015362</td>\n",
              "      <td>14</td>\n",
              "    </tr>\n",
              "    <tr>\n",
              "      <th>3</th>\n",
              "      <td>5.827939</td>\n",
              "      <td>0.013977</td>\n",
              "      <td>0.844666</td>\n",
              "      <td>0.007390</td>\n",
              "      <td>0.001</td>\n",
              "      <td>rbf</td>\n",
              "      <td>{'C': 0.001, 'kernel': 'rbf'}</td>\n",
              "      <td>0.1150</td>\n",
              "      <td>0.1150</td>\n",
              "      <td>0.1150</td>\n",
              "      <td>0.1150</td>\n",
              "      <td>0.1125</td>\n",
              "      <td>0.1145</td>\n",
              "      <td>0.001000</td>\n",
              "      <td>15</td>\n",
              "    </tr>\n",
              "    <tr>\n",
              "      <th>4</th>\n",
              "      <td>1.694601</td>\n",
              "      <td>0.009114</td>\n",
              "      <td>0.510340</td>\n",
              "      <td>0.010045</td>\n",
              "      <td>0.01</td>\n",
              "      <td>linear</td>\n",
              "      <td>{'C': 0.01, 'kernel': 'linear'}</td>\n",
              "      <td>0.9200</td>\n",
              "      <td>0.8825</td>\n",
              "      <td>0.9075</td>\n",
              "      <td>0.9025</td>\n",
              "      <td>0.8950</td>\n",
              "      <td>0.9015</td>\n",
              "      <td>0.012510</td>\n",
              "      <td>6</td>\n",
              "    </tr>\n",
              "    <tr>\n",
              "      <th>5</th>\n",
              "      <td>5.790375</td>\n",
              "      <td>0.016417</td>\n",
              "      <td>0.872453</td>\n",
              "      <td>0.015314</td>\n",
              "      <td>0.01</td>\n",
              "      <td>rbf</td>\n",
              "      <td>{'C': 0.01, 'kernel': 'rbf'}</td>\n",
              "      <td>0.1150</td>\n",
              "      <td>0.1150</td>\n",
              "      <td>0.1150</td>\n",
              "      <td>0.1150</td>\n",
              "      <td>0.1125</td>\n",
              "      <td>0.1145</td>\n",
              "      <td>0.001000</td>\n",
              "      <td>15</td>\n",
              "    </tr>\n",
              "    <tr>\n",
              "      <th>6</th>\n",
              "      <td>1.189469</td>\n",
              "      <td>0.014180</td>\n",
              "      <td>0.410437</td>\n",
              "      <td>0.005432</td>\n",
              "      <td>0.1</td>\n",
              "      <td>linear</td>\n",
              "      <td>{'C': 0.1, 'kernel': 'linear'}</td>\n",
              "      <td>0.9350</td>\n",
              "      <td>0.8825</td>\n",
              "      <td>0.9050</td>\n",
              "      <td>0.8800</td>\n",
              "      <td>0.8700</td>\n",
              "      <td>0.8945</td>\n",
              "      <td>0.023259</td>\n",
              "      <td>7</td>\n",
              "    </tr>\n",
              "    <tr>\n",
              "      <th>7</th>\n",
              "      <td>4.255578</td>\n",
              "      <td>0.024987</td>\n",
              "      <td>0.777032</td>\n",
              "      <td>0.007455</td>\n",
              "      <td>0.1</td>\n",
              "      <td>rbf</td>\n",
              "      <td>{'C': 0.1, 'kernel': 'rbf'}</td>\n",
              "      <td>0.8400</td>\n",
              "      <td>0.7975</td>\n",
              "      <td>0.8275</td>\n",
              "      <td>0.7925</td>\n",
              "      <td>0.7925</td>\n",
              "      <td>0.8100</td>\n",
              "      <td>0.019875</td>\n",
              "      <td>13</td>\n",
              "    </tr>\n",
              "    <tr>\n",
              "      <th>8</th>\n",
              "      <td>1.187202</td>\n",
              "      <td>0.018966</td>\n",
              "      <td>0.409378</td>\n",
              "      <td>0.002108</td>\n",
              "      <td>1</td>\n",
              "      <td>linear</td>\n",
              "      <td>{'C': 1.0, 'kernel': 'linear'}</td>\n",
              "      <td>0.9200</td>\n",
              "      <td>0.8850</td>\n",
              "      <td>0.8975</td>\n",
              "      <td>0.8725</td>\n",
              "      <td>0.8675</td>\n",
              "      <td>0.8885</td>\n",
              "      <td>0.018881</td>\n",
              "      <td>8</td>\n",
              "    </tr>\n",
              "    <tr>\n",
              "      <th>9</th>\n",
              "      <td>2.251166</td>\n",
              "      <td>0.017022</td>\n",
              "      <td>0.570828</td>\n",
              "      <td>0.010298</td>\n",
              "      <td>1</td>\n",
              "      <td>rbf</td>\n",
              "      <td>{'C': 1.0, 'kernel': 'rbf'}</td>\n",
              "      <td>0.9475</td>\n",
              "      <td>0.9200</td>\n",
              "      <td>0.9425</td>\n",
              "      <td>0.9200</td>\n",
              "      <td>0.9200</td>\n",
              "      <td>0.9300</td>\n",
              "      <td>0.012349</td>\n",
              "      <td>5</td>\n",
              "    </tr>\n",
              "    <tr>\n",
              "      <th>10</th>\n",
              "      <td>1.178107</td>\n",
              "      <td>0.017114</td>\n",
              "      <td>0.414940</td>\n",
              "      <td>0.006770</td>\n",
              "      <td>10</td>\n",
              "      <td>linear</td>\n",
              "      <td>{'C': 10.0, 'kernel': 'linear'}</td>\n",
              "      <td>0.9200</td>\n",
              "      <td>0.8850</td>\n",
              "      <td>0.8975</td>\n",
              "      <td>0.8725</td>\n",
              "      <td>0.8675</td>\n",
              "      <td>0.8885</td>\n",
              "      <td>0.018881</td>\n",
              "      <td>8</td>\n",
              "    </tr>\n",
              "    <tr>\n",
              "      <th>11</th>\n",
              "      <td>2.177104</td>\n",
              "      <td>0.030025</td>\n",
              "      <td>0.564376</td>\n",
              "      <td>0.008575</td>\n",
              "      <td>10</td>\n",
              "      <td>rbf</td>\n",
              "      <td>{'C': 10.0, 'kernel': 'rbf'}</td>\n",
              "      <td>0.9650</td>\n",
              "      <td>0.9225</td>\n",
              "      <td>0.9475</td>\n",
              "      <td>0.9350</td>\n",
              "      <td>0.9300</td>\n",
              "      <td>0.9400</td>\n",
              "      <td>0.014916</td>\n",
              "      <td>1</td>\n",
              "    </tr>\n",
              "    <tr>\n",
              "      <th>12</th>\n",
              "      <td>1.181087</td>\n",
              "      <td>0.016044</td>\n",
              "      <td>0.413543</td>\n",
              "      <td>0.005936</td>\n",
              "      <td>100</td>\n",
              "      <td>linear</td>\n",
              "      <td>{'C': 100.0, 'kernel': 'linear'}</td>\n",
              "      <td>0.9200</td>\n",
              "      <td>0.8850</td>\n",
              "      <td>0.8975</td>\n",
              "      <td>0.8725</td>\n",
              "      <td>0.8675</td>\n",
              "      <td>0.8885</td>\n",
              "      <td>0.018881</td>\n",
              "      <td>8</td>\n",
              "    </tr>\n",
              "    <tr>\n",
              "      <th>13</th>\n",
              "      <td>2.175791</td>\n",
              "      <td>0.032147</td>\n",
              "      <td>0.558591</td>\n",
              "      <td>0.012433</td>\n",
              "      <td>100</td>\n",
              "      <td>rbf</td>\n",
              "      <td>{'C': 100.0, 'kernel': 'rbf'}</td>\n",
              "      <td>0.9650</td>\n",
              "      <td>0.9225</td>\n",
              "      <td>0.9475</td>\n",
              "      <td>0.9350</td>\n",
              "      <td>0.9300</td>\n",
              "      <td>0.9400</td>\n",
              "      <td>0.014916</td>\n",
              "      <td>1</td>\n",
              "    </tr>\n",
              "    <tr>\n",
              "      <th>14</th>\n",
              "      <td>1.185392</td>\n",
              "      <td>0.012920</td>\n",
              "      <td>0.410663</td>\n",
              "      <td>0.006819</td>\n",
              "      <td>1000</td>\n",
              "      <td>linear</td>\n",
              "      <td>{'C': 1000.0, 'kernel': 'linear'}</td>\n",
              "      <td>0.9200</td>\n",
              "      <td>0.8850</td>\n",
              "      <td>0.8975</td>\n",
              "      <td>0.8725</td>\n",
              "      <td>0.8675</td>\n",
              "      <td>0.8885</td>\n",
              "      <td>0.018881</td>\n",
              "      <td>8</td>\n",
              "    </tr>\n",
              "    <tr>\n",
              "      <th>15</th>\n",
              "      <td>2.164364</td>\n",
              "      <td>0.031743</td>\n",
              "      <td>0.572219</td>\n",
              "      <td>0.011930</td>\n",
              "      <td>1000</td>\n",
              "      <td>rbf</td>\n",
              "      <td>{'C': 1000.0, 'kernel': 'rbf'}</td>\n",
              "      <td>0.9650</td>\n",
              "      <td>0.9225</td>\n",
              "      <td>0.9475</td>\n",
              "      <td>0.9350</td>\n",
              "      <td>0.9300</td>\n",
              "      <td>0.9400</td>\n",
              "      <td>0.014916</td>\n",
              "      <td>1</td>\n",
              "    </tr>\n",
              "    <tr>\n",
              "      <th>16</th>\n",
              "      <td>1.166585</td>\n",
              "      <td>0.016626</td>\n",
              "      <td>0.412352</td>\n",
              "      <td>0.013108</td>\n",
              "      <td>10000</td>\n",
              "      <td>linear</td>\n",
              "      <td>{'C': 10000.0, 'kernel': 'linear'}</td>\n",
              "      <td>0.9200</td>\n",
              "      <td>0.8850</td>\n",
              "      <td>0.8975</td>\n",
              "      <td>0.8725</td>\n",
              "      <td>0.8675</td>\n",
              "      <td>0.8885</td>\n",
              "      <td>0.018881</td>\n",
              "      <td>8</td>\n",
              "    </tr>\n",
              "    <tr>\n",
              "      <th>17</th>\n",
              "      <td>2.134649</td>\n",
              "      <td>0.049296</td>\n",
              "      <td>0.551204</td>\n",
              "      <td>0.014049</td>\n",
              "      <td>10000</td>\n",
              "      <td>rbf</td>\n",
              "      <td>{'C': 10000.0, 'kernel': 'rbf'}</td>\n",
              "      <td>0.9650</td>\n",
              "      <td>0.9225</td>\n",
              "      <td>0.9475</td>\n",
              "      <td>0.9350</td>\n",
              "      <td>0.9300</td>\n",
              "      <td>0.9400</td>\n",
              "      <td>0.014916</td>\n",
              "      <td>1</td>\n",
              "    </tr>\n",
              "  </tbody>\n",
              "</table>\n",
              "</div>"
            ],
            "text/plain": [
              "    mean_fit_time  std_fit_time  ...  std_test_score  rank_test_score\n",
              "0        5.596449      0.017164  ...        0.001000               15\n",
              "1        5.750710      0.022553  ...        0.001000               15\n",
              "2        3.861721      0.041579  ...        0.015362               14\n",
              "3        5.827939      0.013977  ...        0.001000               15\n",
              "4        1.694601      0.009114  ...        0.012510                6\n",
              "5        5.790375      0.016417  ...        0.001000               15\n",
              "6        1.189469      0.014180  ...        0.023259                7\n",
              "7        4.255578      0.024987  ...        0.019875               13\n",
              "8        1.187202      0.018966  ...        0.018881                8\n",
              "9        2.251166      0.017022  ...        0.012349                5\n",
              "10       1.178107      0.017114  ...        0.018881                8\n",
              "11       2.177104      0.030025  ...        0.014916                1\n",
              "12       1.181087      0.016044  ...        0.018881                8\n",
              "13       2.175791      0.032147  ...        0.014916                1\n",
              "14       1.185392      0.012920  ...        0.018881                8\n",
              "15       2.164364      0.031743  ...        0.014916                1\n",
              "16       1.166585      0.016626  ...        0.018881                8\n",
              "17       2.134649      0.049296  ...        0.014916                1\n",
              "\n",
              "[18 rows x 15 columns]"
            ]
          },
          "metadata": {
            "tags": []
          },
          "execution_count": 77
        }
      ]
    },
    {
      "cell_type": "code",
      "metadata": {
        "id": "DtTjXahsxpgh",
        "colab": {
          "base_uri": "https://localhost:8080/"
        },
        "outputId": "1b4e20c3-9560-4df4-a681-d9efc95d0892"
      },
      "source": [
        "print('Best params', gridsearch_models.best_params_)\n",
        "print('Best score', gridsearch_models.best_score_)"
      ],
      "execution_count": null,
      "outputs": [
        {
          "output_type": "stream",
          "text": [
            "Best params {'C': 10.0, 'kernel': 'rbf'}\n",
            "Best score 0.9400000000000001\n"
          ],
          "name": "stdout"
        }
      ]
    },
    {
      "cell_type": "code",
      "metadata": {
        "id": "yYoBam-Mx0xF"
      },
      "source": [
        "best_model = gridsearch_models.best_estimator_"
      ],
      "execution_count": null,
      "outputs": []
    },
    {
      "cell_type": "markdown",
      "metadata": {
        "id": "rupa4m2jX5rm"
      },
      "source": [
        "## Evaluation"
      ]
    },
    {
      "cell_type": "markdown",
      "metadata": {
        "id": "UBh0Et0erzPs"
      },
      "source": [
        "**Get the predictions on test data**"
      ]
    },
    {
      "cell_type": "code",
      "metadata": {
        "id": "1rwL5VCIX9qi",
        "colab": {
          "base_uri": "https://localhost:8080/"
        },
        "outputId": "8f53107d-753c-4166-fb32-63042fa02c7c"
      },
      "source": [
        "\n",
        "predictions = best_model.predict(X_test_flat) # predictions on test set\n",
        "print('Accuracy Score on Test:', accuracy_score(y_test_flat, predictions))"
      ],
      "execution_count": null,
      "outputs": [
        {
          "output_type": "stream",
          "text": [
            "Accuracy Score on Test: 0.935\n"
          ],
          "name": "stdout"
        }
      ]
    },
    {
      "cell_type": "code",
      "metadata": {
        "colab": {
          "base_uri": "https://localhost:8080/"
        },
        "id": "KScvQglhhmBd",
        "outputId": "8e8f3852-82bf-45b0-d9c8-3cf6109d7ff5"
      },
      "source": [
        "predictions_train = best_model.predict(X_train_flat) # predictions on test set\n",
        "print('Accuracy Score on Train:', accuracy_score(y_train_flat, predictions_train))"
      ],
      "execution_count": null,
      "outputs": [
        {
          "output_type": "stream",
          "text": [
            "Accuracy Score on Train: 1.0\n"
          ],
          "name": "stdout"
        }
      ]
    },
    {
      "cell_type": "code",
      "metadata": {
        "colab": {
          "base_uri": "https://localhost:8080/"
        },
        "id": "ZyxexC_khNJI",
        "outputId": "7bdadb72-0702-41ec-c39e-ae18fd786f84"
      },
      "source": [
        "print('\\t\\tClassification Report on Test \\n',classification_report(y_test_flat,predictions))"
      ],
      "execution_count": null,
      "outputs": [
        {
          "output_type": "stream",
          "text": [
            "\t\tClassification Report on Test \n",
            "               precision    recall  f1-score   support\n",
            "\n",
            "           0       0.92      0.92      0.92        38\n",
            "           1       0.95      0.95      0.95        44\n",
            "           2       0.93      0.87      0.90        47\n",
            "           3       0.92      0.95      0.94        38\n",
            "           4       0.95      1.00      0.97        38\n",
            "           5       0.90      0.90      0.90        30\n",
            "           6       0.97      0.97      0.97        37\n",
            "           7       0.96      0.92      0.94        53\n",
            "           8       0.86      0.94      0.90        32\n",
            "           9       0.95      0.93      0.94        43\n",
            "\n",
            "    accuracy                           0.94       400\n",
            "   macro avg       0.93      0.94      0.93       400\n",
            "weighted avg       0.94      0.94      0.93       400\n",
            "\n"
          ],
          "name": "stdout"
        }
      ]
    },
    {
      "cell_type": "code",
      "metadata": {
        "colab": {
          "base_uri": "https://localhost:8080/"
        },
        "id": "jJtkqiLYhxl7",
        "outputId": "1cf5386d-0392-411b-c887-6735012105b8"
      },
      "source": [
        "print('\\t\\tClassification Report on Train \\n',classification_report(y_train_flat,predictions_train))"
      ],
      "execution_count": null,
      "outputs": [
        {
          "output_type": "stream",
          "text": [
            "\t\tClassification Report on Train \n",
            "               precision    recall  f1-score   support\n",
            "\n",
            "           0       1.00      1.00      1.00       192\n",
            "           1       1.00      1.00      1.00       218\n",
            "           2       1.00      1.00      1.00       194\n",
            "           3       1.00      1.00      1.00       229\n",
            "           4       1.00      1.00      1.00       173\n",
            "           5       1.00      1.00      1.00       151\n",
            "           6       1.00      1.00      1.00       201\n",
            "           7       1.00      1.00      1.00       212\n",
            "           8       1.00      1.00      1.00       207\n",
            "           9       1.00      1.00      1.00       223\n",
            "\n",
            "    accuracy                           1.00      2000\n",
            "   macro avg       1.00      1.00      1.00      2000\n",
            "weighted avg       1.00      1.00      1.00      2000\n",
            "\n"
          ],
          "name": "stdout"
        }
      ]
    },
    {
      "cell_type": "markdown",
      "metadata": {
        "id": "su0pvdthrzP9"
      },
      "source": [
        "**Plot the confusion matrix in form of a heatmap**"
      ]
    },
    {
      "cell_type": "code",
      "metadata": {
        "id": "MNmyiPqSfGGb"
      },
      "source": [
        "sns.set_theme('paper',palette='bright')"
      ],
      "execution_count": null,
      "outputs": []
    },
    {
      "cell_type": "code",
      "metadata": {
        "id": "2RyKjfmHX7SN",
        "colab": {
          "base_uri": "https://localhost:8080/",
          "height": 592
        },
        "outputId": "ec4ffe59-9885-4a07-a98a-7ebebeed2ac1"
      },
      "source": [
        "# Your code here\n",
        "plt.figure(figsize=(10,10))\n",
        "# use sns.heatmap and sklearn's confusion_matrix\n",
        "sns.heatmap(confusion_matrix(y_test_flat,predictions),annot=True,cmap=\"YlGnBu\")\n",
        "plt.show()"
      ],
      "execution_count": null,
      "outputs": [
        {
          "output_type": "display_data",
          "data": {
            "image/png": "[encoded data removed]",
            "text/plain": [
              "<Figure size 720x720 with 2 Axes>"
            ]
          },
          "metadata": {
            "tags": []
          }
        }
      ]
    },
    {
      "cell_type": "markdown",
      "metadata": {
        "id": "mpMUVV4VrzQP"
      },
      "source": [
        "**Plot the samples that the model predicts incorrectly**"
      ]
    },
    {
      "cell_type": "code",
      "metadata": {
        "id": "D3vPy0CqkRww"
      },
      "source": [
        "False_digit = predictions[y_test_flat != predictions]"
      ],
      "execution_count": null,
      "outputs": []
    },
    {
      "cell_type": "code",
      "metadata": {
        "id": "sugyOOdPlbJ6"
      },
      "source": [
        "False_Image = X_test_flat[y_test_flat != predictions]"
      ],
      "execution_count": null,
      "outputs": []
    },
    {
      "cell_type": "code",
      "metadata": {
        "colab": {
          "base_uri": "https://localhost:8080/",
          "height": 540
        },
        "id": "7FZBvWr2f3Cw",
        "outputId": "aae1a958-0a09-49eb-c19e-bebc95a2e15f"
      },
      "source": [
        "plot_images(False_Image.reshape((-1, 28,28)), False_digit)"
      ],
      "execution_count": null,
      "outputs": [
        {
          "output_type": "display_data",
          "data": {
            "image/png": "[encoded data removed]",
            "text/plain": [
              "<Figure size 1440x720 with 26 Axes>"
            ]
          },
          "metadata": {
            "tags": []
          }
        }
      ]
    },
    {
      "cell_type": "markdown",
      "metadata": {
        "id": "Y8O1Hh7LYNjP"
      },
      "source": [
        "## Save model"
      ]
    },
    {
      "cell_type": "code",
      "metadata": {
        "id": "C7cNiWsLYPTE"
      },
      "source": [
        "import pickle\n",
        "\n",
        "pickle.dump(best_model, open('svm_mnist.pkl', 'wb'))"
      ],
      "execution_count": null,
      "outputs": []
    },
    {
      "cell_type": "markdown",
      "metadata": {
        "id": "5B-g57XIYuH0"
      },
      "source": [
        "**Re-load model for testing**"
      ]
    },
    {
      "cell_type": "code",
      "metadata": {
        "id": "WDsYcxfzYd8F",
        "colab": {
          "base_uri": "https://localhost:8080/"
        },
        "outputId": "fcff2d32-2390-41c1-f3d9-0c2599562ac9"
      },
      "source": [
        "# Your code here\n",
        "with open('svm_mnist.pkl', 'rb') as model:\n",
        "      reload_model = pickle.load(model)\n",
        "\n",
        "predictions = reload_model.predict(X_test_flat)\n",
        "print(f'Accuracy score: {accuracy_score(y_test_flat, predictions)}')"
      ],
      "execution_count": null,
      "outputs": [
        {
          "output_type": "stream",
          "text": [
            "Accuracy score: 0.935\n"
          ],
          "name": "stdout"
        }
      ]
    },
    {
      "cell_type": "code",
      "metadata": {
        "id": "VbIZtiBio1HH"
      },
      "source": [
        ""
      ],
      "execution_count": null,
      "outputs": []
    }
  ]
}